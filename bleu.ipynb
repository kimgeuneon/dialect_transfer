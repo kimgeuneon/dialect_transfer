{
 "cells": [
  {
   "cell_type": "code",
   "execution_count": null,
   "metadata": {
    "vscode": {
     "languageId": "plaintext"
    }
   },
   "outputs": [
    {
     "name": "stdout",
     "output_type": "stream",
     "text": [
      "Generating predictions...\n",
      "  0%|          | 0/32 [00:00<?, ?it/s]Asking to truncate to max_length but no maximum length is provided and the model has no predefined maximum length. Default to no truncation.\n",
      "100%|██████████| 32/32 [04:59<00:00,  9.37s/it]\n",
      "Calculating BLEU score...\n",
      "BLEU score: 59.38\n"
     ]
    }
   ],
   "source": [
    "import json\n",
    "from transformers import BartForConditionalGeneration, PreTrainedTokenizerFast\n",
    "import evaluate\n",
    "import torch\n",
    "from tqdm import tqdm  # Progress Bar 라이브러리\n",
    "\n",
    "# 모델과 토크나이저 로드\n",
    "model_path = \"./kobart-finetuned-jeju\"\n",
    "model = BartForConditionalGeneration.from_pretrained(model_path)\n",
    "tokenizer = PreTrainedTokenizerFast.from_pretrained(model_path)\n",
    "\n",
    "# JSON 파일에서 평가 데이터 로드\n",
    "with open(\"test_data_random.json\", \"r\", encoding=\"utf-8-sig\") as file:\n",
    "    test_data = json.load(file)\n",
    "\n",
    "# 입력과 참조 데이터 준비\n",
    "inputs = [item['source'] for item in test_data]\n",
    "references = [[item['target']] for item in test_data]  # 중첩 리스트 형태, 나중에 정답 여러 개인 데이터 사용 시 필요\n ",
    "\n",
    "# 모델 예측 생성 (배치 처리)\n",
    "batch_size = 32  # 배치 크기 설정\n",
    "predictions = []\n",
    "\n",
    "print(\"Generating predictions...\")\n",
    "for i in tqdm(range(0, len(inputs), batch_size)):  # Progress Bar 추가\n",
    "    batch_inputs = inputs[i:i + batch_size]\n",
    "    inputs_encoded = tokenizer(batch_inputs, return_tensors='pt', padding=True, truncation=True)\n",
    "    with torch.no_grad():\n",
    "        output_ids = model.generate(inputs_encoded[\"input_ids\"])\n",
    "    batch_predictions = tokenizer.batch_decode(output_ids, skip_special_tokens=True)\n",
    "    predictions.extend(batch_predictions)\n",
    "\n",
    "# BLEU 점수 계산\n",
    "print(\"Calculating BLEU score...\")\n",
    "bleu = evaluate.load(\"sacrebleu\")\n",
    "results = bleu.compute(predictions=predictions, references=references)\n",
    "\n",
    "# 결과 출력\n",
    "print(f\"BLEU score: {results['score']:.2f}\")\n"
   ]
  },
  {
   "cell_type": "code",
   "execution_count": null,
   "metadata": {
    "vscode": {
     "languageId": "plaintext"
    }
   },
   "outputs": [
    {
     "name": "stdout",
     "output_type": "stream",
     "text": [
      "Generating predictions...\n",
      "  0%|          | 0/32 [00:00<?, ?it/s]Asking to truncate to max_length but no maximum length is provided and the model has no predefined maximum length. Default to no truncation.\n",
      "100%|██████████| 32/32 [05:10<00:00,  9.70s/it]\n",
      "Calculating BLEU score...\n",
      "BLEU score: 91.48\n"
     ]
    }
   ],
   "source": [
    "import json\n",
    "from transformers import BartForConditionalGeneration, PreTrainedTokenizerFast\n",
    "import evaluate\n",
    "import torch\n",
    "from tqdm import tqdm  # Progress Bar 라이브러리\n",
    "\n",
    "# 모델과 토크나이저 로드\n",
    "model_path = \"./kobart-finetuned-kyeongsang\"\n",
    "model = BartForConditionalGeneration.from_pretrained(model_path)\n",
    "tokenizer = PreTrainedTokenizerFast.from_pretrained(model_path)\n",
    "\n",
    "# JSON 파일에서 평가 데이터 로드\n",
    "with open(\"kyeongsang_data\\kyeongsang_test_data_random.json\", \"r\", encoding=\"utf-8-sig\") as file:\n",
    "    test_data = json.load(file)\n",
    "\n",
    "# 입력과 참조 데이터 준비\n",
    "inputs = [item['source'] for item in test_data]\n",
    "references = [[item['target']] for item in test_data]  # 리스트의 리스트 형태\n",
    "\n",
    "# 모델 예측 생성 (배치 처리)\n",
    "batch_size = 32  # 배치 크기 설정\n",
    "predictions = []\n",
    "\n",
    "print(\"Generating predictions...\")\n",
    "for i in tqdm(range(0, len(inputs), batch_size)):  # Progress Bar 추가\n",
    "    batch_inputs = inputs[i:i + batch_size]\n",
    "    inputs_encoded = tokenizer(batch_inputs, return_tensors='pt', padding=True, truncation=True)\n",
    "    with torch.no_grad():\n",
    "        output_ids = model.generate(inputs_encoded[\"input_ids\"], max_length=250)\n",
    "    batch_predictions = tokenizer.batch_decode(output_ids, skip_special_tokens=True)\n",
    "    predictions.extend(batch_predictions)\n",
    "\n",
    "# BLEU 점수 계산\n",
    "print(\"Calculating BLEU score...\")\n",
    "bleu = evaluate.load(\"sacrebleu\")\n",
    "results = bleu.compute(predictions=predictions, references=references)\n",
    "\n",
    "# 결과 출력\n",
    "print(f\"BLEU score: {results['score']:.2f}\")"
   ]
  }
 ],
 "metadata": {
  "kernelspec": {
   "display_name": "Python 3",
   "language": "python",
   "name": "python3"
  },
  "language_info": {
   "codemirror_mode": {
    "name": "ipython",
    "version": 3
   },
   "file_extension": ".py",
   "mimetype": "text/x-python",
   "name": "python",
   "nbconvert_exporter": "python",
   "pygments_lexer": "ipython3",
   "version": "3.9.18"
  }
 },
 "nbformat": 4,
 "nbformat_minor": 2
}
